{
 "cells": [
  {
   "cell_type": "code",
   "execution_count": 7,
   "metadata": {},
   "outputs": [],
   "source": [
    "import cv2 \n",
    "import numpy as np\n",
    "import matplotlib.pyplot as plt \n",
    "\n",
    "def imshow(title =\"image\",image = None, size= 10 ):\n",
    "    w, h =image.shape[0],image.shape[1]\n",
    "    aspect_ratio =  w/h\n",
    "    plt.figure(figsize=(size*aspect_ratio, size))\n",
    "    plt.imshow(cv2.cvtColor(image,cv2.COLOR_BGR2RGB))\n",
    "    plt.show()\n"
   ]
  },
  {
   "cell_type": "code",
   "execution_count": 8,
   "metadata": {},
   "outputs": [],
   "source": [
    "def track_color():\n",
    "    cap = cv2.VideoCapture(0)\n",
    "    while True:\n",
    "        ret, frame = cap.read()\n",
    "        if not ret:\n",
    "            break\n",
    "\n",
    "        hsv = cv2.cvtColor(frame, cv2.COLOR_BGR2HSV)\n",
    "\n",
    "        # Mavi renk aralığını belirle (HSV formatında)\n",
    "        lower_blue = np.array([100, 150, 0])\n",
    "        upper_blue = np.array([140, 255, 255])\n",
    "\n",
    "        # Maske oluştur\n",
    "        mask = cv2.inRange(hsv, lower_blue, upper_blue)\n",
    "\n",
    "        # Maskeyi kullanarak sadece mavi renkli nesneleri çıkar\n",
    "        res = cv2.bitwise_and(frame, frame, mask=mask)\n",
    "\n",
    "        # Konturları bul\n",
    "        contours, _ = cv2.findContours(mask, cv2.RETR_TREE, cv2.CHAIN_APPROX_SIMPLE)\n",
    "        for cnt in contours:\n",
    "            approx = cv2.approxPolyDP(cnt, 0.02 * cv2.arcLength(cnt, True), True)\n",
    "            area = cv2.contourArea(cnt)\n",
    "            if area > 500:\n",
    "                cv2.drawContours(frame, [approx], 0, (0, 255, 0), 3)\n",
    "\n",
    "        # Clear the previous plot\n",
    "        clear_output(wait=True)\n",
    "\n",
    "        # Sonuçları göster\n",
    "        imshow(\"Tracking\", frame)\n",
    "\n",
    "        # Çıkış için 'q' tuşuna bas\n",
    "        if cv2.waitKey(1) & 0xFF == ord('q'):\n",
    "            break\n",
    "\n",
    "    cap.release()\n",
    "    cv2.destroyAllWindows()\n"
   ]
  },
  {
   "cell_type": "code",
   "execution_count": null,
   "metadata": {},
   "outputs": [],
   "source": []
  }
 ],
 "metadata": {
  "kernelspec": {
   "display_name": "Python 3",
   "language": "python",
   "name": "python3"
  },
  "language_info": {
   "codemirror_mode": {
    "name": "ipython",
    "version": 3
   },
   "file_extension": ".py",
   "mimetype": "text/x-python",
   "name": "python",
   "nbconvert_exporter": "python",
   "pygments_lexer": "ipython3",
   "version": "3.12.1"
  }
 },
 "nbformat": 4,
 "nbformat_minor": 2
}
