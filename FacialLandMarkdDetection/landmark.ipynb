{
 "cells": [
  {
   "cell_type": "code",
   "execution_count": null,
   "metadata": {},
   "outputs": [],
   "source": [
    "import cv2 \n",
    "import numpy as np\n",
    "import matplotlib.pyplot as plt \n",
    "\n",
    "def imshow(title =\"image\",image = None, size= 10 ):\n",
    "    w, h =image.shape[0],image.shape[1]\n",
    "    aspect_ratio =  w/h\n",
    "    plt.figure(figsize=(size*aspect_ratio, size))\n",
    "    plt.imshow(cv2.cvtColor(image,cv2.COLOR_BGR2RGB))\n",
    "    plt.show()"
   ]
  }
 ],
 "metadata": {
  "language_info": {
   "name": "python"
  }
 },
 "nbformat": 4,
 "nbformat_minor": 2
}
