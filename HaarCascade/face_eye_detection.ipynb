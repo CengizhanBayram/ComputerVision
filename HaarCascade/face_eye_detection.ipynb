import cv2 
import numpy as np
import matplotlib.pyplot as plt 

def imshow(title ="image",image = None, size= 10 ):
    w, h =image.shape[0],image.shape[1]
    aspect_ratio =  w/h
    plt.figure(figsize=(size*aspect_ratio, size))
    plt.imshow(cv2.cvtColor(image,cv2.COLOR_BGR2RGB))
    plt.show()
