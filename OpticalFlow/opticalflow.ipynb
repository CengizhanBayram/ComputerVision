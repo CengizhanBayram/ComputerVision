{
 "cells": [
  {
   "cell_type": "code",
   "execution_count": 10,
   "metadata": {},
   "outputs": [],
   "source": [
    "import cv2 \n",
    "import numpy as np\n",
    "import matplotlib.pyplot as plt \n",
    "\n",
    "def imshow(title =\"image\",image = None, size= 10 ):\n",
    "    w, h =image.shape[0],image.shape[1]\n",
    "    aspect_ratio =  w/h\n",
    "    plt.figure(figsize=(size*aspect_ratio, size))\n",
    "    plt.imshow(cv2.cvtColor(image,cv2.COLOR_BGR2RGB))\n",
    "    plt.show()\n"
   ]
  },
  {
   "cell_type": "markdown",
   "metadata": {},
   "source": [
    "## **The Lucas-Kanade Optical Flow Algorithm**\n",
    "\n",
    "Optical flow is the pattern of apparent motion of image objects between two consecutive frames caused by the movemement of object or camera. It is 2D vector field where each vector is a displacement vector showing the movement of points from first frame to second. Consider the image below (Image Courtesy: Wikipedia article on Optical Flow).\n",
    "Optical Flow algoritması, bir görüntü dizisindeki hareketli nesnelerin hız vektörlerini hesaplamak için kullanılan bir tekniktir. Bu, her pikselin hareket yönü ve hızının hesaplanmasını sağlar ve bu bilgi genellikle nesne takibi, hareket analizi ve video stabilizasyonu gibi uygulamalarda kullanılır.\n",
    "\n",
    "Optical Flow algoritmaları, genellikle iki ana yaklaşıma ayrılır: sparse (seyrek) ve dense (yoğun).\n",
    "\n",
    "![](https://upload.wikimedia.org/wikipedia/commons/thumb/1/10/Optical_flow_example_v2.png/440px-Optical_flow_example_v2.png)\n",
    "\n",
    "It shows a ball moving in 5 consecutive frames. The arrow shows its displacement vector. Optical flow has many applications in areas like :\n",
    "\n",
    "- Structure from Motion\n",
    "- Video Compression\n",
    "- Video Stabilization\n",
    "\n",
    "Optical flow works on several assumptions:\n",
    "\n",
    "- The pixel intensities of an object do not change between consecutive frames.\n",
    "- Neighbouring pixels have similar motion.\n",
    "\n",
    "Learn more - https://opencv-python-tutroals.readthedocs.io/en/latest/py_tutorials/py_video/py_lucas_kanade/py_lucas_kanade.html"
   ]
  },
  {
   "cell_type": "code",
   "execution_count": 11,
   "metadata": {},
   "outputs": [
    {
     "ename": "error",
     "evalue": "OpenCV(4.9.0) :-1: error: (-5:Bad argument) in function 'line'\n> Overload resolution failed:\n>  - Can't parse 'pt1'. Sequence item with index 0 has a wrong type\n>  - Can't parse 'pt1'. Sequence item with index 0 has a wrong type\n",
     "output_type": "error",
     "traceback": [
      "\u001b[1;31m---------------------------------------------------------------------------\u001b[0m",
      "\u001b[1;31merror\u001b[0m                                     Traceback (most recent call last)",
      "Cell \u001b[1;32mIn[11], line 45\u001b[0m\n\u001b[0;32m     43\u001b[0m a, b \u001b[38;5;241m=\u001b[39m new\u001b[38;5;241m.\u001b[39mravel()\n\u001b[0;32m     44\u001b[0m c, d \u001b[38;5;241m=\u001b[39m old\u001b[38;5;241m.\u001b[39mravel() \n\u001b[1;32m---> 45\u001b[0m mask \u001b[38;5;241m=\u001b[39m \u001b[43mcv2\u001b[49m\u001b[38;5;241;43m.\u001b[39;49m\u001b[43mline\u001b[49m\u001b[43m(\u001b[49m\u001b[43mmask\u001b[49m\u001b[43m,\u001b[49m\u001b[43m(\u001b[49m\u001b[43ma\u001b[49m\u001b[43m,\u001b[49m\u001b[43mb\u001b[49m\u001b[43m)\u001b[49m\u001b[43m,\u001b[49m\u001b[43m(\u001b[49m\u001b[43mc\u001b[49m\u001b[43m,\u001b[49m\u001b[43md\u001b[49m\u001b[43m)\u001b[49m\u001b[43m,\u001b[49m\u001b[43m \u001b[49m\u001b[43mcolor\u001b[49m\u001b[43m[\u001b[49m\u001b[43mi\u001b[49m\u001b[43m]\u001b[49m\u001b[38;5;241;43m.\u001b[39;49m\u001b[43mtolist\u001b[49m\u001b[43m(\u001b[49m\u001b[43m)\u001b[49m\u001b[43m,\u001b[49m\u001b[38;5;241;43m2\u001b[39;49m\u001b[43m)\u001b[49m\n\u001b[0;32m     46\u001b[0m frame \u001b[38;5;241m=\u001b[39m cv2\u001b[38;5;241m.\u001b[39mline(frame,(a,b),\u001b[38;5;241m5\u001b[39m, color[i]\u001b[38;5;241m.\u001b[39mtolist(),\u001b[38;5;241m-\u001b[39m\u001b[38;5;241m1\u001b[39m)\n\u001b[0;32m     47\u001b[0m img \u001b[38;5;241m=\u001b[39m cv2\u001b[38;5;241m.\u001b[39madd(frame,mask)\n",
      "\u001b[1;31merror\u001b[0m: OpenCV(4.9.0) :-1: error: (-5:Bad argument) in function 'line'\n> Overload resolution failed:\n>  - Can't parse 'pt1'. Sequence item with index 0 has a wrong type\n>  - Can't parse 'pt1'. Sequence item with index 0 has a wrong type\n"
     ]
    }
   ],
   "source": [
    "import cv2\n",
    "import numpy as np\n",
    "cap = cv2.VideoCapture(r'C:\\Users\\cengh\\Desktop\\ComputerVison\\OpticalFlow\\walking.avi')\n",
    "# get  the height and weight frame(integer)\n",
    "\n",
    "# get the height and width of the frame (integer)\n",
    "width = int(cap.get(cv2.CAP_PROP_FRAME_WIDTH))\n",
    "height = int(cap.get(cv2.CAP_PROP_FRAME_HEIGHT))\n",
    "#define codec and create a videowriter object the output avi file\n",
    "out = cv2.VideoWriter('optical_flow_walking.avi',cv2.VideoWriter_fourcc('M','J','P','G',),30,(width, height))\n",
    "# for corner detection\n",
    "feature_params =dict(maxCorners =100,\n",
    "                     qualityLevel = 0.3,\n",
    "                     minDistance = 7,\n",
    "                     blockSize =7)\n",
    "\n",
    "#Set parameters  for lucas kanade optical algorithm kuantum algorithm\n",
    "lucas_kenade_params = dict(winSize =(15,15),\n",
    "                           maxLevel=2,\n",
    "                           criteria =(cv2.TERM_CRITERIA_EPS|cv2.TERM_CRITERIA_COUNT,10,0.03))\n",
    "# create random colors\n",
    "color = np.random.randint(0,255,(100,3))\n",
    "\n",
    "ret , prev_frame = cap.read()\n",
    "prev_gray = cv2.cvtColor(prev_frame,cv2.COLOR_BGR2GRAY)\n",
    "\n",
    "#Find initial corner locations\n",
    "\n",
    "prev_corners = cv2.goodFeaturesToTrack(prev_gray,mask=None,**feature_params) \n",
    "\n",
    "mask =np.zeros_like(prev_frame)\n",
    "while(True):\n",
    "    ret , frame =cap.read()\n",
    "    if ret == True:\n",
    "        frame_gray = cv2.cvtColor(frame,cv2.COLOR_BGR2GRAY)\n",
    "        #calculate optimal flow \n",
    "        new_corners,status , errors = cv2.calcOpticalFlowPyrLK(prev_gray,frame_gray,prev_corners,None,**lucas_kenade_params)\n",
    "    good_new = new_corners[status==1]\n",
    "    good_old = prev_corners[status==1]\n",
    "\n",
    "#Draw tracks\n",
    "    for i,(new,old)in enumerate(zip(good_new,good_old)):\n",
    "        a, b = new.ravel()\n",
    "        c, d = old.ravel() \n",
    "        mask = cv2.line(mask,(a,b),(c,d), color[i].tolist(),2)\n",
    "        frame = cv2.line(frame,(a,b),5, color[i].tolist(),-1)\n",
    "        img = cv2.add(frame,mask)\n",
    "        out.write(img)\n",
    "        prev_gray =frame_gray.copy()\n",
    "        prev_corners =good_new.reshape(-1,1,2)\n",
    "    else:\n",
    "        break\n",
    "cap.release()\n",
    "out.release()\n"
   ]
  },
  {
   "cell_type": "markdown",
   "metadata": {},
   "source": []
  },
  {
   "cell_type": "code",
   "execution_count": null,
   "metadata": {},
   "outputs": [],
   "source": []
  }
 ],
 "metadata": {
  "kernelspec": {
   "display_name": "Python 3",
   "language": "python",
   "name": "python3"
  },
  "language_info": {
   "codemirror_mode": {
    "name": "ipython",
    "version": 3
   },
   "file_extension": ".py",
   "mimetype": "text/x-python",
   "name": "python",
   "nbconvert_exporter": "python",
   "pygments_lexer": "ipython3",
   "version": "3.12.1"
  }
 },
 "nbformat": 4,
 "nbformat_minor": 2
}
